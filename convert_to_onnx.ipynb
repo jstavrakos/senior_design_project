{
  "nbformat": 4,
  "nbformat_minor": 0,
  "metadata": {
    "colab": {
      "provenance": [],
      "authorship_tag": "ABX9TyPWYTnI1aFxWM8S3TByjkXr",
      "include_colab_link": true
    },
    "kernelspec": {
      "name": "python3",
      "display_name": "Python 3"
    },
    "language_info": {
      "name": "python"
    }
  },
  "cells": [
    {
      "cell_type": "markdown",
      "metadata": {
        "id": "view-in-github",
        "colab_type": "text"
      },
      "source": [
        "<a href=\"https://colab.research.google.com/github/jstavrakos/senior_design_project/blob/jack/convert_to_onnx.ipynb\" target=\"_parent\"><img src=\"https://colab.research.google.com/assets/colab-badge.svg\" alt=\"Open In Colab\"/></a>"
      ]
    },
    {
      "cell_type": "code",
      "execution_count": null,
      "metadata": {
        "id": "RsEW0nIYioVM"
      },
      "outputs": [],
      "source": [
        "import torch\n",
        "from handGestureModel import hand_gesture_model"
      ]
    },
    {
      "cell_type": "code",
      "source": [
        "def main():\n",
        "  pytorch_model = hand_gesture_model()\n",
        "  pytorch_model.load_state_dict(torch.load('pytorch_model.pt'))\n",
        "  pytorch_model.eval()\n",
        "  dummy_input = torch.zeros(1,1,28,28) # set this to a tensor of the size of the input\n",
        "  torch.onnx.export(pytorch_model, dummy_input, 'onnx_model.onnx', verbose=True)\n"
      ],
      "metadata": {
        "id": "2_Ml8jhGq6Ra"
      },
      "execution_count": null,
      "outputs": []
    },
    {
      "cell_type": "code",
      "source": [
        "if __name__ == 'main':\n",
        "  main()"
      ],
      "metadata": {
        "id": "Aol_2kl9q-dm"
      },
      "execution_count": null,
      "outputs": []
    }
  ]
}